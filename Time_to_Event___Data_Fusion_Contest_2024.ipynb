{
  "nbformat": 4,
  "nbformat_minor": 0,
  "metadata": {
    "colab": {
      "provenance": [],
      "gpuType": "T4"
    },
    "kernelspec": {
      "name": "python3",
      "display_name": "Python 3"
    },
    "language_info": {
      "name": "python"
    },
    "accelerator": "GPU"
  },
  "cells": [
    {
      "cell_type": "markdown",
      "source": [
        "Чтобы решить эту задачу, мы можем использовать различные методы машинного обучения, такие как логистическая регрессия, случайный лес или градиентный бустинг. Но прежде чем начать кодирование, нам нужно предварительно обработать данные, чтобы подготовить их для обучения модели.\n",
        "\n",
        "Давайте разработаем общий план:\n",
        "\n",
        "Загрузим данные и объединим их в соответствии с информацией о клиентах.\n",
        "Подготовим признаки для обучения модели.\n",
        "Обучим модель машинного обучения для предсказания оттока клиентов.\n",
        "Оценим производительность модели.\n",
        "Для начала нам нужно распаковать файл transactions.csv.zip и загрузить все данные. После этого мы сможем продолжить с предобработкой данных и построением модели."
      ],
      "metadata": {
        "id": "MD1FdDGIj1va"
      }
    },
    {
      "cell_type": "code",
      "source": [
        "!cd /content && wget https://storage.yandexcloud.net/ds-ods/files/data/docs/competitions/DataFusion2024/Data/clients.csv\n",
        "!cd /content && wget https://storage.yandexcloud.net/ds-ods/files/data/docs/competitions/DataFusion2024/Data/train.csv\n",
        "!cd /content && wget https://storage.yandexcloud.net/ds-ods/files/data/docs/competitions/DataFusion2024/Data/report_dates.csv\n",
        "!cd /content && wget https://storage.yandexcloud.net/ds-ods/files/data/docs/competitions/DataFusion2024/Data/transactions.csv.zip"
      ],
      "metadata": {
        "colab": {
          "base_uri": "https://localhost:8080/"
        },
        "id": "gSJU-6hUxA1q",
        "outputId": "992e6948-0ed6-4315-f6b2-5c28e95fba4d"
      },
      "execution_count": 1,
      "outputs": [
        {
          "output_type": "stream",
          "name": "stdout",
          "text": [
            "--2024-03-07 19:10:14--  https://storage.yandexcloud.net/ds-ods/files/data/docs/competitions/DataFusion2024/Data/clients.csv\n",
            "Resolving storage.yandexcloud.net (storage.yandexcloud.net)... 213.180.193.243, 2a02:6b8::1d9\n",
            "Connecting to storage.yandexcloud.net (storage.yandexcloud.net)|213.180.193.243|:443... connected.\n",
            "HTTP request sent, awaiting response... 200 OK\n",
            "Length: 2457605 (2.3M) [text/csv]\n",
            "Saving to: ‘clients.csv’\n",
            "\n",
            "clients.csv         100%[===================>]   2.34M  1.78MB/s    in 1.3s    \n",
            "\n",
            "2024-03-07 19:10:17 (1.78 MB/s) - ‘clients.csv’ saved [2457605/2457605]\n",
            "\n",
            "--2024-03-07 19:10:17--  https://storage.yandexcloud.net/ds-ods/files/data/docs/competitions/DataFusion2024/Data/train.csv\n",
            "Resolving storage.yandexcloud.net (storage.yandexcloud.net)... 213.180.193.243, 2a02:6b8::1d9\n",
            "Connecting to storage.yandexcloud.net (storage.yandexcloud.net)|213.180.193.243|:443... connected.\n",
            "HTTP request sent, awaiting response... 200 OK\n",
            "Length: 754462 (737K) [text/csv]\n",
            "Saving to: ‘train.csv’\n",
            "\n",
            "train.csv           100%[===================>] 736.78K   761KB/s    in 1.0s    \n",
            "\n",
            "2024-03-07 19:10:18 (761 KB/s) - ‘train.csv’ saved [754462/754462]\n",
            "\n",
            "--2024-03-07 19:10:18--  https://storage.yandexcloud.net/ds-ods/files/data/docs/competitions/DataFusion2024/Data/report_dates.csv\n",
            "Resolving storage.yandexcloud.net (storage.yandexcloud.net)... 213.180.193.243, 2a02:6b8::1d9\n",
            "Connecting to storage.yandexcloud.net (storage.yandexcloud.net)|213.180.193.243|:443... connected.\n",
            "HTTP request sent, awaiting response... 200 OK\n",
            "Length: 288 [text/csv]\n",
            "Saving to: ‘report_dates.csv’\n",
            "\n",
            "report_dates.csv    100%[===================>]     288  --.-KB/s    in 0s      \n",
            "\n",
            "2024-03-07 19:10:19 (83.9 MB/s) - ‘report_dates.csv’ saved [288/288]\n",
            "\n",
            "--2024-03-07 19:10:19--  https://storage.yandexcloud.net/ds-ods/files/data/docs/competitions/DataFusion2024/Data/transactions.csv.zip\n",
            "Resolving storage.yandexcloud.net (storage.yandexcloud.net)... 213.180.193.243, 2a02:6b8::1d9\n",
            "Connecting to storage.yandexcloud.net (storage.yandexcloud.net)|213.180.193.243|:443... connected.\n",
            "HTTP request sent, awaiting response... 200 OK\n",
            "Length: 196984122 (188M) [application/zip]\n",
            "Saving to: ‘transactions.csv.zip’\n",
            "\n",
            "transactions.csv.zi 100%[===================>] 187.86M  16.4MB/s    in 13s     \n",
            "\n",
            "2024-03-07 19:10:34 (14.1 MB/s) - ‘transactions.csv.zip’ saved [196984122/196984122]\n",
            "\n"
          ]
        }
      ]
    },
    {
      "cell_type": "code",
      "source": [
        "import warnings\n",
        "import seaborn as sns\n",
        "import pandas as pd\n",
        "import numpy as np\n",
        "from sklearn.model_selection import train_test_split\n",
        "from sklearn.ensemble import RandomForestClassifier\n",
        "from sklearn.metrics import accuracy_score, classification_report"
      ],
      "metadata": {
        "id": "99kL21YwkFRG"
      },
      "execution_count": 65,
      "outputs": []
    },
    {
      "cell_type": "code",
      "source": [
        "'''\n",
        "from google.colab import drive\n",
        "\n",
        "warnings.filterwarnings('ignore')\n",
        "sns.set(style='darkgrid')\n",
        "%matplotlib inline\n",
        "\n",
        "# отображение_всех_строк_и_столбцов\n",
        "pd.set_option('display.max_rows', None)\n",
        "pd.set_option('display.max_columns', None)\n",
        "\n",
        "# подключение_к_диску\n",
        "drive.mount('/content/drive')\n",
        "\n",
        "pd.options.mode.chained_assignment = None\n",
        "'''"
      ],
      "metadata": {
        "colab": {
          "base_uri": "https://localhost:8080/"
        },
        "id": "Wg5WKnvgkIIF",
        "outputId": "0d75cafe-c010-4c42-8d03-b704133c6c69"
      },
      "execution_count": 2,
      "outputs": [
        {
          "output_type": "stream",
          "name": "stdout",
          "text": [
            "Mounted at /content/drive\n"
          ]
        }
      ]
    },
    {
      "cell_type": "code",
      "source": [
        "# Загрузка данных\n",
        "clients = pd.read_csv(\"clients.csv\")\n",
        "train = pd.read_csv(\"train.csv\")\n",
        "report_dates = pd.read_csv(\"report_dates.csv\")\n",
        "transactions = pd.read_csv(\"transactions.csv.zip\")"
      ],
      "metadata": {
        "id": "lteOoUEiki1h"
      },
      "execution_count": 66,
      "outputs": []
    },
    {
      "cell_type": "code",
      "source": [
        "# Создание целевой переменной\n",
        "# Предполагаем, что метка 1 означает уход клиента (отток), а 0 - остаток\n",
        "# Преобразуем метку 0 в 1, так как в задаче Survival Analysis 1 обозначает событие, а 0 - цензурированные данные\n",
        "#train['event_status'] = 1 - train['target']"
      ],
      "metadata": {
        "id": "y7a_FHVpmw_r"
      },
      "execution_count": 4,
      "outputs": []
    },
    {
      "cell_type": "code",
      "source": [
        "# Объединение данных\n",
        "data = pd.merge(train, clients, on='user_id', how='left')"
      ],
      "metadata": {
        "id": "2Qx3ZoG7sf7d"
      },
      "execution_count": 67,
      "outputs": []
    },
    {
      "cell_type": "code",
      "source": [
        "# Преобразование даты отчета в формат даты\n",
        "report_dates['report_dt'] = pd.to_datetime(report_dates['report_dt'])"
      ],
      "metadata": {
        "id": "MFKnGvELsosV"
      },
      "execution_count": 68,
      "outputs": []
    },
    {
      "cell_type": "code",
      "source": [
        "# Предполагаем, что время до последней транзакции определено относительно последнего отчета\n",
        "data['last_transaction_dt'] = report_dates['report_dt'].max() - pd.to_timedelta(data['time'], unit='D')"
      ],
      "metadata": {
        "id": "eEDAJXs6srpM"
      },
      "execution_count": 69,
      "outputs": []
    },
    {
      "cell_type": "code",
      "source": [
        "# Преобразование даты транзакции в формат даты\n",
        "transactions['transaction_dttm'] = pd.to_datetime(transactions['transaction_dttm'])"
      ],
      "metadata": {
        "id": "q2kHJD3asu96"
      },
      "execution_count": 70,
      "outputs": []
    },
    {
      "cell_type": "code",
      "source": [
        "# Рассчитаем общую сумму транзакций для каждого клиента за последние 6 месяцев\n",
        "transactions_last_6_months = transactions[transactions['transaction_dttm'] >= report_dates['report_dt'].max() - pd.DateOffset(months=6)]\n",
        "total_transaction_amt_last_6_months = transactions_last_6_months.groupby('user_id')['transaction_amt'].sum().reset_index()\n",
        "total_transaction_amt_last_6_months.rename(columns={'transaction_amt': 'total_transaction_amt_last_6_months'}, inplace=True)"
      ],
      "metadata": {
        "id": "wy__QLWasyyJ"
      },
      "execution_count": 71,
      "outputs": []
    },
    {
      "cell_type": "code",
      "source": [
        "'''\n",
        "Группа 0 может представлять детей или лиц моложе 18 лет.\n",
        "Группа 1 может представлять молодежь или лиц от 18 до 30 лет.\n",
        "Группа 2 может представлять взрослых или лиц от 30 до 50 лет.\n",
        "Группа 3 может представлять пожилых людей или лиц старше 50 лет.\n",
        "'''"
      ],
      "metadata": {
        "id": "plcIeU6Jt_nJ"
      },
      "execution_count": null,
      "outputs": []
    },
    {
      "cell_type": "code",
      "source": [
        "# Объединим данные с общей суммой транзакций в последние 6 месяцев с основными данными\n",
        "data = pd.merge(data, total_transaction_amt_last_6_months, on='user_id', how='left')"
      ],
      "metadata": {
        "id": "_c1QR6pLs5t7"
      },
      "execution_count": 72,
      "outputs": []
    },
    {
      "cell_type": "code",
      "source": [
        "data.dropna(inplace=True)            # удаление всех строк, содержащих пропущенные значения(NaN)."
      ],
      "metadata": {
        "id": "c9567XFfQeKV"
      },
      "execution_count": 73,
      "outputs": []
    },
    {
      "cell_type": "code",
      "source": [
        "# Преобразование категориального признака 'employee_count_nm' с помощью One-Hot Encoding\n",
        "data = pd.get_dummies(data, columns=['employee_count_nm'])"
      ],
      "metadata": {
        "id": "7H899Zy7RqNw"
      },
      "execution_count": 74,
      "outputs": []
    },
    {
      "cell_type": "code",
      "source": [
        "# Подготовим данные для обучения модели\n",
        "X = data.drop(['user_id', 'target', 'time', 'last_transaction_dt'], axis=1)\n",
        "y = data['target']"
      ],
      "metadata": {
        "id": "9kxuerjetEBi"
      },
      "execution_count": 75,
      "outputs": []
    },
    {
      "cell_type": "code",
      "source": [
        "# Разделение данных на обучающий и тестовый наборы\n",
        "X_train, X_test, y_train, y_test = train_test_split(X, y, test_size=0.2, random_state=42)"
      ],
      "metadata": {
        "id": "oq8Gw_IbtHXk"
      },
      "execution_count": 76,
      "outputs": []
    },
    {
      "cell_type": "code",
      "source": [
        "# Обучим модель случайного леса\n",
        "model = RandomForestClassifier(n_estimators=100, random_state=42)\n",
        "model.fit(X_train, y_train)"
      ],
      "metadata": {
        "colab": {
          "base_uri": "https://localhost:8080/",
          "height": 74
        },
        "id": "x53CaPVxtKl3",
        "outputId": "2fd31ec5-8875-4bb2-ca1d-0b777fb3d5b2"
      },
      "execution_count": 77,
      "outputs": [
        {
          "output_type": "execute_result",
          "data": {
            "text/plain": [
              "RandomForestClassifier(random_state=42)"
            ],
            "text/html": [
              "<style>#sk-container-id-2 {color: black;background-color: white;}#sk-container-id-2 pre{padding: 0;}#sk-container-id-2 div.sk-toggleable {background-color: white;}#sk-container-id-2 label.sk-toggleable__label {cursor: pointer;display: block;width: 100%;margin-bottom: 0;padding: 0.3em;box-sizing: border-box;text-align: center;}#sk-container-id-2 label.sk-toggleable__label-arrow:before {content: \"▸\";float: left;margin-right: 0.25em;color: #696969;}#sk-container-id-2 label.sk-toggleable__label-arrow:hover:before {color: black;}#sk-container-id-2 div.sk-estimator:hover label.sk-toggleable__label-arrow:before {color: black;}#sk-container-id-2 div.sk-toggleable__content {max-height: 0;max-width: 0;overflow: hidden;text-align: left;background-color: #f0f8ff;}#sk-container-id-2 div.sk-toggleable__content pre {margin: 0.2em;color: black;border-radius: 0.25em;background-color: #f0f8ff;}#sk-container-id-2 input.sk-toggleable__control:checked~div.sk-toggleable__content {max-height: 200px;max-width: 100%;overflow: auto;}#sk-container-id-2 input.sk-toggleable__control:checked~label.sk-toggleable__label-arrow:before {content: \"▾\";}#sk-container-id-2 div.sk-estimator input.sk-toggleable__control:checked~label.sk-toggleable__label {background-color: #d4ebff;}#sk-container-id-2 div.sk-label input.sk-toggleable__control:checked~label.sk-toggleable__label {background-color: #d4ebff;}#sk-container-id-2 input.sk-hidden--visually {border: 0;clip: rect(1px 1px 1px 1px);clip: rect(1px, 1px, 1px, 1px);height: 1px;margin: -1px;overflow: hidden;padding: 0;position: absolute;width: 1px;}#sk-container-id-2 div.sk-estimator {font-family: monospace;background-color: #f0f8ff;border: 1px dotted black;border-radius: 0.25em;box-sizing: border-box;margin-bottom: 0.5em;}#sk-container-id-2 div.sk-estimator:hover {background-color: #d4ebff;}#sk-container-id-2 div.sk-parallel-item::after {content: \"\";width: 100%;border-bottom: 1px solid gray;flex-grow: 1;}#sk-container-id-2 div.sk-label:hover label.sk-toggleable__label {background-color: #d4ebff;}#sk-container-id-2 div.sk-serial::before {content: \"\";position: absolute;border-left: 1px solid gray;box-sizing: border-box;top: 0;bottom: 0;left: 50%;z-index: 0;}#sk-container-id-2 div.sk-serial {display: flex;flex-direction: column;align-items: center;background-color: white;padding-right: 0.2em;padding-left: 0.2em;position: relative;}#sk-container-id-2 div.sk-item {position: relative;z-index: 1;}#sk-container-id-2 div.sk-parallel {display: flex;align-items: stretch;justify-content: center;background-color: white;position: relative;}#sk-container-id-2 div.sk-item::before, #sk-container-id-2 div.sk-parallel-item::before {content: \"\";position: absolute;border-left: 1px solid gray;box-sizing: border-box;top: 0;bottom: 0;left: 50%;z-index: -1;}#sk-container-id-2 div.sk-parallel-item {display: flex;flex-direction: column;z-index: 1;position: relative;background-color: white;}#sk-container-id-2 div.sk-parallel-item:first-child::after {align-self: flex-end;width: 50%;}#sk-container-id-2 div.sk-parallel-item:last-child::after {align-self: flex-start;width: 50%;}#sk-container-id-2 div.sk-parallel-item:only-child::after {width: 0;}#sk-container-id-2 div.sk-dashed-wrapped {border: 1px dashed gray;margin: 0 0.4em 0.5em 0.4em;box-sizing: border-box;padding-bottom: 0.4em;background-color: white;}#sk-container-id-2 div.sk-label label {font-family: monospace;font-weight: bold;display: inline-block;line-height: 1.2em;}#sk-container-id-2 div.sk-label-container {text-align: center;}#sk-container-id-2 div.sk-container {/* jupyter's `normalize.less` sets `[hidden] { display: none; }` but bootstrap.min.css set `[hidden] { display: none !important; }` so we also need the `!important` here to be able to override the default hidden behavior on the sphinx rendered scikit-learn.org. See: https://github.com/scikit-learn/scikit-learn/issues/21755 */display: inline-block !important;position: relative;}#sk-container-id-2 div.sk-text-repr-fallback {display: none;}</style><div id=\"sk-container-id-2\" class=\"sk-top-container\"><div class=\"sk-text-repr-fallback\"><pre>RandomForestClassifier(random_state=42)</pre><b>In a Jupyter environment, please rerun this cell to show the HTML representation or trust the notebook. <br />On GitHub, the HTML representation is unable to render, please try loading this page with nbviewer.org.</b></div><div class=\"sk-container\" hidden><div class=\"sk-item\"><div class=\"sk-estimator sk-toggleable\"><input class=\"sk-toggleable__control sk-hidden--visually\" id=\"sk-estimator-id-2\" type=\"checkbox\" checked><label for=\"sk-estimator-id-2\" class=\"sk-toggleable__label sk-toggleable__label-arrow\">RandomForestClassifier</label><div class=\"sk-toggleable__content\"><pre>RandomForestClassifier(random_state=42)</pre></div></div></div></div></div>"
            ]
          },
          "metadata": {},
          "execution_count": 77
        }
      ]
    },
    {
      "cell_type": "code",
      "execution_count": 78,
      "metadata": {
        "id": "dRs652HBjncG",
        "colab": {
          "base_uri": "https://localhost:8080/"
        },
        "outputId": "c3707f8a-757e-43e6-9e2e-249f090b5cf8"
      },
      "outputs": [
        {
          "output_type": "stream",
          "name": "stdout",
          "text": [
            "Accuracy: 0.9284611425630468\n",
            "              precision    recall  f1-score   support\n",
            "\n",
            "           0       0.96      0.97      0.96      1852\n",
            "           1       0.11      0.08      0.09        91\n",
            "\n",
            "    accuracy                           0.93      1943\n",
            "   macro avg       0.53      0.52      0.53      1943\n",
            "weighted avg       0.92      0.93      0.92      1943\n",
            "\n"
          ]
        }
      ],
      "source": [
        "# Предскажем отток на тестовом наборе\n",
        "y_pred = model.predict(X_test)\n",
        "\n",
        "# Оценка производительности модели\n",
        "print(\"Accuracy:\", accuracy_score(y_test, y_pred))\n",
        "print(classification_report(y_test, y_pred))"
      ]
    },
    {
      "cell_type": "code",
      "source": [
        "# Предсказание оттока для конкретного клиента\n",
        "churn_prediction = model.predict(X_test[2:3])\n",
        "\n",
        "# Вывод результата предсказания\n",
        "if churn_prediction == 1:\n",
        "    print(\"Клиент уйдет в отток.\")\n",
        "else:\n",
        "    print(\"Клиент останется.\")\n"
      ],
      "metadata": {
        "colab": {
          "base_uri": "https://localhost:8080/"
        },
        "id": "kORsRf0zXKU1",
        "outputId": "81ce8997-4206-4e79-9101-2f5ef8bbc7f6"
      },
      "execution_count": 79,
      "outputs": [
        {
          "output_type": "stream",
          "name": "stdout",
          "text": [
            "Клиент останется.\n"
          ]
        }
      ]
    },
    {
      "cell_type": "code",
      "source": [
        "# Применение обученной модели к данным всех клиентов для предсказания оттока\n",
        "predictions = model.predict(X_test)\n",
        "\n",
        "# Индексы клиентов, которые покинут банк (прогноз оттока = 1)\n",
        "churned_clients_indices = X_test.index[predictions == 1]\n",
        "\n",
        "# Получение данных о клиентах, которые покинут банк\n",
        "churned_clients_data = X_test.loc[churned_clients_indices]\n",
        "\n",
        "# Вывод данных о клиентах, которые покинут банк\n",
        "print(churned_clients_data.index)\n",
        "print(f\"{churned_clients_data.shape[0]} Клиента покинут банк.\")"
      ],
      "metadata": {
        "colab": {
          "base_uri": "https://localhost:8080/"
        },
        "id": "pnFK8vFM-0Lx",
        "outputId": "2a45fa31-3976-4d5f-c9bb-649a44bbf14f"
      },
      "execution_count": 80,
      "outputs": [
        {
          "output_type": "stream",
          "name": "stdout",
          "text": [
            "Int64Index([ 5129, 63152, 28975, 10130, 24480, 26373, 56178, 62531,  8340,\n",
            "            18764, 13380,  9410, 19519, 58763, 35370, 13600, 21963, 36035,\n",
            "             2195, 27207, 26792,  9114, 32422,  8828, 35323, 49307, 10673,\n",
            "             5382, 40610, 26911, 22018, 11572, 39041, 14842,  2339,  1875,\n",
            "            23091, 33134, 15686,  2345, 19800, 16630, 24270, 15697, 56929,\n",
            "             7991, 19141, 18755, 49831, 62886,  5373,  6344, 14385, 40559,\n",
            "            29900, 15393, 27569, 32429, 21414,  2350, 26703, 48662],\n",
            "           dtype='int64')\n",
            "62 Клиента покинут банк.\n"
          ]
        }
      ]
    },
    {
      "cell_type": "code",
      "source": [
        "# Индексы клиентов, которые останутся в банке (прогноз оттока = 0)\n",
        "churned_clients_indices = X_test.index[predictions == 0]\n",
        "\n",
        "# Получение данных о клиентах, которые останутся в банке\n",
        "churned_clients_data = X_test.loc[churned_clients_indices]\n",
        "\n",
        "print(f\"{churned_clients_data.shape[0]} Клиента останутся в банке.\")\n"
      ],
      "metadata": {
        "colab": {
          "base_uri": "https://localhost:8080/"
        },
        "id": "jWtqV-5wYwLe",
        "outputId": "5803ffe6-08ee-4298-c2ef-7010707a6555"
      },
      "execution_count": 81,
      "outputs": [
        {
          "output_type": "stream",
          "name": "stdout",
          "text": [
            "1881 Клиента останутся в банке.\n"
          ]
        }
      ]
    },
    {
      "cell_type": "code",
      "source": [
        "# Загрузка тестовых данных\n",
        "test_data = pd.read_csv(\"clients.csv\")"
      ],
      "metadata": {
        "id": "D5c9SY-hdtZx"
      },
      "execution_count": 82,
      "outputs": []
    },
    {
      "cell_type": "code",
      "source": [
        "# Преобразование категориального признака 'employee_count_nm' с помощью One-Hot Encoding\n",
        "test_data = pd.get_dummies(test_data, columns=['employee_count_nm'])"
      ],
      "metadata": {
        "id": "ZSvelFJmejAe"
      },
      "execution_count": 83,
      "outputs": []
    },
    {
      "cell_type": "code",
      "source": [
        "test_data_mdf =  test_data.drop(['user_id'], axis=1)"
      ],
      "metadata": {
        "id": "jIoyG0e7Z0YH"
      },
      "execution_count": 84,
      "outputs": []
    },
    {
      "cell_type": "code",
      "source": [
        "test_data_mdf.insert(loc=3, column='total_transaction_amt_last_6_months', value=9543.386719)"
      ],
      "metadata": {
        "id": "i3jdFCHQc1fI"
      },
      "execution_count": 87,
      "outputs": []
    },
    {
      "cell_type": "code",
      "source": [
        "predictions = model.predict(test_data_mdf)"
      ],
      "metadata": {
        "id": "-GyxTHsQeU6l"
      },
      "execution_count": 88,
      "outputs": []
    },
    {
      "cell_type": "code",
      "source": [
        "# Создание DataFrame с предсказаниями\n",
        "results_df = pd.DataFrame({'user_id': test_data['user_id'], 'predict': predictions})\n",
        "results_df['predict'] = results_df['predict'].astype(float)\n",
        "# Сохранение результатов в файл CSV\n",
        "results_df.to_csv(\"predictions.csv\", index=False)\n",
        "\n",
        "print(\"Предсказания сохранены в файл predictions.csv\")"
      ],
      "metadata": {
        "colab": {
          "base_uri": "https://localhost:8080/"
        },
        "id": "FDjduw3tdSS9",
        "outputId": "7d242f52-72e6-4c38-9d72-c32ae6a6db50"
      },
      "execution_count": 92,
      "outputs": [
        {
          "output_type": "stream",
          "name": "stdout",
          "text": [
            "Предсказания сохранены в файл predictions.csv\n"
          ]
        }
      ]
    },
    {
      "cell_type": "code",
      "source": [
        "preds = pd.read_csv(\"predictions.csv\")"
      ],
      "metadata": {
        "id": "rHZKzWegduZK"
      },
      "execution_count": 93,
      "outputs": []
    },
    {
      "cell_type": "code",
      "source": [
        "# Define the variable 'predict'\n",
        "predict = preds[\"predict\"]\n",
        "\n",
        "# Индексы клиентов, которые покинут банк (прогноз оттока = 1)\n",
        "churned_clients_indices = preds.index[predict == 1]\n",
        "\n",
        "# Получение данных о клиентах, которые покинут банк\n",
        "churned_clients_data = preds.loc[churned_clients_indices]\n",
        "\n",
        "# Вывод данных о клиентах, которые покинут банк\n",
        "print(churned_clients_data.index)\n",
        "print(f\"{churned_clients_data.shape[0]} Клиента покинут банк.\")"
      ],
      "metadata": {
        "colab": {
          "base_uri": "https://localhost:8080/"
        },
        "id": "vaX6h4C0eWfJ",
        "outputId": "42e7fd1f-188f-4c53-e761-a6db454937a2"
      },
      "execution_count": 91,
      "outputs": [
        {
          "output_type": "stream",
          "name": "stdout",
          "text": [
            "Int64Index([  634,  1229,  1423,  1990,  2130,  2328,  2356,  2444,  2469,\n",
            "             3121,\n",
            "            ...\n",
            "            93904, 94200, 94258, 94450, 94538, 95104, 95178, 95322, 95609,\n",
            "            95810],\n",
            "           dtype='int64', length=761)\n",
            "761 Клиента покинут банк.\n"
          ]
        }
      ]
    }
  ]
}